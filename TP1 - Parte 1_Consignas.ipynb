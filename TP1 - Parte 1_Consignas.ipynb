{
 "cells": [
  {
   "cell_type": "markdown",
   "metadata": {
    "id": "Dh8MkXaG-c9Y"
   },
   "source": [
    "# Curso de Big Data. Otoño 2024\n",
    "\n",
    "## Trabajo Práctico 1 - Parte 1 "
   ]
  },
  {
   "cell_type": "markdown",
   "metadata": {
    "id": "RhBlm6mZ-c9e"
   },
   "source": [
    "### Reglas de formato y presentación\n",
    "- El trabajo debe estar bien comentado (utilizando #) para que el código sea fácil de entender por sus compañeros y profesores.\n",
    "\n",
    "- El mismo debe ser completado en este Jupyter Notebook y entregado como tal, es decir en un archivo .ipynb\n"
   ]
  },
  {
   "cell_type": "markdown",
   "metadata": {
    "id": "ZEjGaa4U-c9g"
   },
   "source": [
    "### Fecha de entrega:\n",
    "Domingo 24 de marzo a las 23:59hs"
   ]
  },
  {
   "cell_type": "markdown",
   "metadata": {
    "id": "N9TU2y7E-c9h"
   },
   "source": [
    "### Modalidad de entrega\n",
    "- Al finalizar el trabajo práctico deben hacer un último <i>commit</i> en su repositorio de GitHub con el mensaje “Entrega final del tp”. \n",
    "- Asegurense de haber creado una carpeta llamada TP1. Este Jupyter Notebook y el correspondiente al TP1 - Parte 2 deben estar dentro de esa carpeta.\n",
    "- También deben enviar el link de su repositorio -para que pueda ser clonado y corregido- al siguiente email: v.oubina@gmail.com\n",
    "- La última versión en el repositorio es la que será evaluada. Por lo que es importante que: \n",
    "    - No envien el correo hasta no haber terminado y estar seguros de que han hecho el <i>commit y push</i> a la versión final que quieren entregar. Debido a que se pueden tomar hasta 3 días de extensión a lo largo del curso, no se corregirán sus tareas hasta no recibir el correo.\n",
    "    - No hagan nuevos <i>push</i> despues de haber entregado su versión final. Esto generaría confusión acerca de que versión es la que quieren que se les corrija. "
   ]
  },
  {
   "cell_type": "markdown",
   "metadata": {
    "id": "ZXbrPraa-c9i"
   },
   "source": [
    "#### Ejercicio 1\n",
    "Este ejercicio simplemente busca repasar lo que aprendimos sobre definición de variables. Definir dos variables con un nombre combinado (al menos dos palabras), una que se pueda crear y otra que tenga un nombre inaceptable (genera error). Explicar por qué ocurre el error."
   ]
  },
  {
   "cell_type": "code",
   "execution_count": 4,
   "metadata": {
    "id": "mb7PkXfN-c9j",
    "scrolled": true
   },
   "outputs": [
    {
     "name": "stdout",
     "output_type": "stream",
     "text": [
      "13\n"
     ]
    }
   ],
   "source": [
    "# Caso A\n",
    "copas = 7\n",
    "boca_juniors = 6\n",
    "\n",
    "total = boca_junios + copas\n",
    "\n",
    "print(total)\n",
    "#La variable total esta compuesta por otras dos variables llamadas copas y boca_juniors. Ambas estan definidas previamente\n",
    "\n",
    "# Caso B (acá debería saltar un error)\n",
    "\n",
    "error = /1\n",
    "\n",
    "#Tira mensaje de error debido a que estamos definiendo una variable con una operacion matematica invalida"
   ]
  },
  {
   "cell_type": "markdown",
   "metadata": {},
   "source": [
    "#### Ejercicio 2\n",
    "Importar módulos. Usando el módulo math impriman la tangente de 1. ¿Cuál es el resultado?\n",
    "Hagan este cálculo de dos formas: primero importando el módulo math y usando la función correspondiente y luego solo importando la función específica que precisan para el cálculo."
   ]
  },
  {
   "cell_type": "code",
   "execution_count": 6,
   "metadata": {},
   "outputs": [
    {
     "name": "stdout",
     "output_type": "stream",
     "text": [
      "1.5574077246549023\n",
      "1.5574077246549023\n"
     ]
    }
   ],
   "source": [
    "# Caso A\n",
    "import math as ma\n",
    "\n",
    "tangente = ma.tan(1)\n",
    "\n",
    "print(tangente)\n",
    "\n",
    "# Caso B\n",
    "\n",
    "from math import tan \n",
    "\n",
    "tangente_1 = tan(1)\n",
    "print(tangente_1)"
   ]
  },
  {
   "cell_type": "markdown",
   "metadata": {
    "id": "GlNh0fyv-c9l"
   },
   "source": [
    "#### Ejercicio 3 \n",
    "Este ejercicio trata sobre lograr el intercambio de valores entre dos variables utilizando una variable temporal para hacerlo. Las variables temporales y la sustitución de valores termina siendo útil en algunos loops. Los pasos a seguir son: (a) definir variables A y B (cuyos valores buscaremos invertir); (b) definir una variable temporal que resguarde el valor de B; (c) sustitución (asignar B igual a A y también A igual al valor original de B); (d) imprimir valores para verificar."
   ]
  },
  {
   "cell_type": "code",
   "execution_count": 7,
   "metadata": {
    "id": "uWalSYFC-c9m"
   },
   "outputs": [
    {
     "name": "stdout",
     "output_type": "stream",
     "text": [
      "2\n",
      "1\n"
     ]
    }
   ],
   "source": [
    "# a) Definir variables A y B, \n",
    "a = 1\n",
    "b = 2\n",
    "\n",
    "# b) Definir variable temporal \"tmp\" igual a B (la variable, no el valor)\n",
    "\n",
    "tmp = b\n",
    "\n",
    "# c) Ahora sustituir variables: variable B igual a variable A (la variable, no el\n",
    "# valor) y viceversa.\n",
    "\n",
    "b = a \n",
    "a = tmp\n",
    "\n",
    "\n",
    "# d) Verifiquemos resultados: imprimir variables A y B\n",
    "\n",
    "print(a)\n",
    "print(b)"
   ]
  },
  {
   "cell_type": "markdown",
   "metadata": {
    "id": "wXhAaRyN-c9p"
   },
   "source": [
    "#### Ejercicio 4\n",
    "En este ejercicio se busca poner en práctica el uso de range() en un for loop. \n",
    "\n",
    "Construir un for loop usando un range(). El range debe ser entre los valores que quieran (con una diferencia mínima de 15 entre start y stop), en incrementos de 3 unidades. Dentro del loop, implementar una sentencia condicional que imprima una leyenda indicando si el input es par o impar."
   ]
  },
  {
   "cell_type": "code",
   "execution_count": 11,
   "metadata": {
    "id": "_oE5sG0c-c9q"
   },
   "outputs": [
    {
     "name": "stdout",
     "output_type": "stream",
     "text": [
      "3 es impar\n",
      "6 es par.\n",
      "9 es impar\n",
      "12 es par.\n",
      "15 es impar\n",
      "18 es par.\n",
      "21 es impar\n"
     ]
    }
   ],
   "source": [
    "# Resolver acá\n",
    "\n",
    "a = 0 \n",
    "\n",
    "for i in range (0, 7):\n",
    "    a = a+3\n",
    "    if a % 2 == 0:\n",
    "        print(a, \"es par.\")\n",
    "    else: \n",
    "        print(a, \"es impar\")"
   ]
  },
  {
   "cell_type": "markdown",
   "metadata": {
    "id": "h3g5bXUB-c9u"
   },
   "source": [
    "#### Ejercicio 5\n",
    "Para practicar el uso de condiciones lógicas y la definición de funciones, construir una función con una sentencia condicional que verifique si un año es bisiesto o no. Para que un año sea bisiesto debe cumplir una de dos condiciones:\n",
    "\n",
    "(a) que sea divisible por 400; o\n",
    "\n",
    "(b) que sea divisible por 4 y no sea divisible por 100\n",
    "\n",
    "Notar que son dos condiciones, donde la segunda condición tiene dos componentes. Prueben la función con 3 valores para verificar que funcione."
   ]
  },
  {
   "cell_type": "code",
   "execution_count": 18,
   "metadata": {
    "id": "7_MnILdz-c9v"
   },
   "outputs": [
    {
     "name": "stdout",
     "output_type": "stream",
     "text": [
      "2024 es bisiesto\n",
      "2023 no es bisiesto\n",
      "2020 es bisiesto\n"
     ]
    }
   ],
   "source": [
    "# Resolver acá\n",
    "\n",
    "def bisiesto(year):\n",
    "    if year % 400 == 0 or year % 4 == 0 and year % 100 != 0:\n",
    "        print(year, \"es bisiesto\")\n",
    "    else: \n",
    "        print(year, \"no es bisiesto\")\n",
    "  \n",
    "bisiesto(2024) \n",
    "bisiesto(2023) \n",
    "bisiesto(2020) "
   ]
  },
  {
   "cell_type": "markdown",
   "metadata": {
    "id": "P3a7bJkd-c9w"
   },
   "source": [
    "#### Ejercicio 6 \n",
    "Pongamos en práctica identificar el type() de cada variable. A continuación tenemos una lista con elementos de diferentes tipos. Construyan un for loop que itere sobre la lista e imprima un cartel indicando el tipo de dato u objeto que hay en cada caso."
   ]
  },
  {
   "cell_type": "code",
   "execution_count": 22,
   "metadata": {
    "id": "jDf4d_Wr-c9w"
   },
   "outputs": [],
   "source": [
    "mi_lista = [10, 34.5, 99999, 'abc', [1,2,3], ('ARG', 1810), {'pob': 45}, True]"
   ]
  },
  {
   "cell_type": "code",
   "execution_count": 28,
   "metadata": {
    "id": "SAJgEiNEFQAS"
   },
   "outputs": [
    {
     "name": "stdout",
     "output_type": "stream",
     "text": [
      "El elemento  10  es  <class 'int'>\n",
      "El elemento  34.5  es  <class 'float'>\n",
      "El elemento  99999  es  <class 'int'>\n",
      "El elemento  abc  es  <class 'str'>\n",
      "El elemento  [1, 2, 3]  es  <class 'list'>\n",
      "El elemento  ('ARG', 1810)  es  <class 'tuple'>\n",
      "El elemento  {'pob': 45}  es  <class 'dict'>\n",
      "El elemento  True  es  <class 'bool'>\n"
     ]
    }
   ],
   "source": [
    "# Resolver acá\n",
    "\n",
    "#Dejamos a las listas, diccionarios y tuplas como un tipo de clase en si. \n",
    "\n",
    "for i in mi_lista:\n",
    "    print(\"El elemento \", i, \" es \", type(i))"
   ]
  },
  {
   "cell_type": "markdown",
   "metadata": {
    "id": "y1lncitl-c9x"
   },
   "source": [
    "#### Ejercicio 7\n",
    "Ahora definan ustedes una nueva lista, en la que los primeros cuatro elementos sean palabras (strings), el quinto elemento no sea string, y el sexto sea string. Construyan un for loop que corra por la lista y que imprima la palabra y la longitud de la misma. Que el loop contenga una sentencia condicional que imprima un cartel \"Elemento no es un string: < el elemento > | < class del elemento >\" para los casos dónde el elemento evaluado no sea string."
   ]
  },
  {
   "cell_type": "code",
   "execution_count": 32,
   "metadata": {
    "id": "bFOk9Os0-c9x"
   },
   "outputs": [
    {
     "name": "stdout",
     "output_type": "stream",
     "text": [
      "hola , longitud:  4\n",
      "nacho , longitud:  5\n",
      "martiniano , longitud:  10\n",
      "enrique , longitud:  7\n",
      "Elemento no es un string:  21 <class 'int'>\n",
      "victoria , longitud:  8\n"
     ]
    }
   ],
   "source": [
    "lista = [\"hola\", \"nacho\", \"martiniano\", \"enrique\", 21, \"victoria\"]\n",
    "\n",
    "for i in lista:\n",
    "    if type(i) == str:\n",
    "        print(i, \", longitud: \", len(i))\n",
    "    else:\n",
    "        print(\"Elemento no es un string: \", i, type(i))\n",
    "        "
   ]
  },
  {
   "cell_type": "markdown",
   "metadata": {
    "id": "PUpxDz72-c9x"
   },
   "source": [
    "#### Ejercicio 8\n",
    "Argentina tiene una representación legislativa proporcional en la cual la cantidad de diputados se debería ajustar según el tamaño de población de cada provincia. Otra característica de la representación legislativa del país es que hay una cantidad mínima de diputados por provincia (5). Esto genera un desbalance en la cantidad de ciudadanos por cada representante en el Congreso entre provincias.\n",
    "\n",
    "A continuación preparamos algunos ejemplos, dividiendo la población de cada provincia (según estimación para el 2022) por la cantidad de representantes en el Congreso para esa misma jurisdicción. También armamos el equivalente para el total país y una lista con los valores provinciales.\n",
    "\n",
    "En este ejercicio les pedimos que construyan un for loop que itere sobre el diccionario definido y compare cada valor provincial contra el valor de proporcionalidad directa (la variable argentina). El loop debe imprimir una leyenda que indique si la provincia está sobrerepresentada, subrepresentada o con representación proporcional. Además, queremos que el mismo loop compare los valores de las provincias sobrerepresentadas y que guarde el valor de la provincia con mayor sobrerepresentación. Luego del loop impriman este valor así podemos ver que haya funcionado.\n",
    "\n",
    "Fuente para población: https://es.wikipedia.org/wiki/Demograf%C3%ADa_de_Argentina\n",
    "\n",
    "Fuente para representantes: https://es.wikipedia.org/wiki/C%C3%A1mara_de_Diputados_de_la_Naci%C3%B3n_Argentina"
   ]
  },
  {
   "cell_type": "code",
   "execution_count": 36,
   "metadata": {
    "id": "hd8Z5AHs-c9y"
   },
   "outputs": [],
   "source": [
    "# Valor de referencia: proporcionalidad\n",
    "argentina = 46044703 / 257\n",
    "\n",
    "# Creamos variables para una selección de jurisdicciones\n",
    "cordoba = 3978984 / 18\n",
    "santa_fe = 3556522 / 19\n",
    "mendoza = 2014533 / 10\n",
    "buenos_aires = 17569053 / 70\n",
    "entre_rios =  1426426 / 9\n",
    "santa_cruz = 333473 / 5\n",
    "formosa = 606041 / 5\n",
    "\n",
    "# Definimos el diccionario para iterar\n",
    "dict_provincias = {\n",
    "    \"Córdoba\": cordoba,\n",
    "    \"Santa Fe\": santa_fe,\n",
    "    \"Mendoza\": mendoza,\n",
    "    \"Buenos Aires\": buenos_aires,\n",
    "    \"Entre Ríos\": entre_rios,\n",
    "    \"Santa Cruz\": santa_cruz,\n",
    "    \"Formosa\": formosa\n",
    "}"
   ]
  },
  {
   "cell_type": "code",
   "execution_count": 44,
   "metadata": {
    "id": "fsEHnxiY-c9y",
    "scrolled": true
   },
   "outputs": [
    {
     "name": "stdout",
     "output_type": "stream",
     "text": [
      "Córdoba esta subrepresentada\n",
      "Santa Fe esta subrepresentada\n",
      "Mendoza esta subrepresentada\n",
      "Buenos Aires esta subrepresentada\n",
      "Entre Ríos esta sobrerepresentada\n",
      "Santa Cruz esta sobrerepresentada\n",
      "Formosa esta sobrerepresentada\n"
     ]
    }
   ],
   "source": [
    "for diputados in dict_provincias.items():\n",
    "    if diputados[1] < argentina:\n",
    "        print(diputados[0], \"esta sobrerepresentada\")\n",
    "    elif diputados[1] == argentina:\n",
    "        print(diputados[0], \"tiene representacion proporcional\")\n",
    "    else:\n",
    "        print(diputados[0], \"esta subrepresentada\")\n"
   ]
  },
  {
   "cell_type": "markdown",
   "metadata": {
    "id": "GokZe5tV-c9z"
   },
   "source": [
    "#### Ejercicio 9\n",
    "Si buscáramos minimizar la subrepresentación de la provincia de Buenos Aires, ¿cuántos representantes debería tener según el Censo 2022? Usemos el mismo criterio de sub/sobrerepresentacion que en el ejercicio anterior: población sobre cantidad de representantes.\n",
    "\n",
    "Para responder esta pregunta construyan un while loop que incremente de a uno la cantidad de representantes de la Provincia hasta minimizar la subrepresentación. En cada iteración impriman un cartel que diga: \"Se agregó un representante, el total ahora es X\" dónde X es el número de representantes simulado."
   ]
  },
  {
   "cell_type": "code",
   "execution_count": 53,
   "metadata": {
    "id": "x9DvuXa_-c9z"
   },
   "outputs": [
    {
     "name": "stdout",
     "output_type": "stream",
     "text": [
      "Se agregó un representante, el total ahora es 71\n",
      "Se agregó un representante, el total ahora es 72\n",
      "Se agregó un representante, el total ahora es 73\n",
      "Se agregó un representante, el total ahora es 74\n",
      "Se agregó un representante, el total ahora es 75\n",
      "Se agregó un representante, el total ahora es 76\n",
      "Se agregó un representante, el total ahora es 77\n",
      "Se agregó un representante, el total ahora es 78\n",
      "Se agregó un representante, el total ahora es 79\n",
      "Se agregó un representante, el total ahora es 80\n",
      "Se agregó un representante, el total ahora es 81\n",
      "Se agregó un representante, el total ahora es 82\n",
      "Se agregó un representante, el total ahora es 83\n",
      "Se agregó un representante, el total ahora es 84\n",
      "Se agregó un representante, el total ahora es 85\n",
      "Se agregó un representante, el total ahora es 86\n",
      "Se agregó un representante, el total ahora es 87\n",
      "Se agregó un representante, el total ahora es 88\n",
      "Se agregó un representante, el total ahora es 89\n",
      "Se agregó un representante, el total ahora es 90\n",
      "Se agregó un representante, el total ahora es 91\n",
      "Se agregó un representante, el total ahora es 92\n",
      "Se agregó un representante, el total ahora es 93\n",
      "Se agregó un representante, el total ahora es 94\n",
      "Se agregó un representante, el total ahora es 95\n",
      "Se agregó un representante, el total ahora es 96\n",
      "Se agregó un representante, el total ahora es 97\n",
      "Se agregó un representante, el total ahora es 98\n",
      "Se agregó un representante, el total ahora es 99\n"
     ]
    }
   ],
   "source": [
    "# Estos son los valores de la provincia\n",
    "representantes_pba = 70\n",
    "poblacion2010_pba = 17594428\n",
    "\n",
    "\n",
    "\n",
    "# Y el valor de referencia nacional\n",
    "argentina = 46044703 / 257\n",
    "\n",
    "\n",
    "# Resolver acá\n",
    "\n",
    "rep_bsas = poblacion2010_pba / representantes_pba\n",
    "\n",
    "while rep_bsas > argentina:\n",
    "    representantes_pba += 1\n",
    "    print(\"Se agregó un representante, el total ahora es\", representantes_pba)\n",
    "    rep_bsas = poblacion2010_pba / representantes_pba\n"
   ]
  },
  {
   "cell_type": "markdown",
   "metadata": {},
   "source": [
    "#### Ejercicio 10"
   ]
  },
  {
   "cell_type": "markdown",
   "metadata": {},
   "source": [
    "Construyan una función llamada 'suma' que tome una cantidad variable de parámetros y devuelva el resultado de la suma."
   ]
  },
  {
   "cell_type": "code",
   "execution_count": 62,
   "metadata": {},
   "outputs": [
    {
     "name": "stdout",
     "output_type": "stream",
     "text": [
      "27\n"
     ]
    }
   ],
   "source": [
    "# Resolver acá\n",
    "\n",
    "\n",
    "def suma(*args):\n",
    "    total = 0 \n",
    "    for num in args:\n",
    "        total += num\n",
    "    return total\n",
    "\n",
    "print(suma(5, 2, 5, 8, 2, 5))\n",
    "        \n"
   ]
  },
  {
   "cell_type": "code",
   "execution_count": null,
   "metadata": {},
   "outputs": [],
   "source": []
  }
 ],
 "metadata": {
  "anaconda-cloud": {},
  "colab": {
   "name": "TP1 - Parte 1.ipynb",
   "provenance": []
  },
  "kernelspec": {
   "display_name": "Python 3 (ipykernel)",
   "language": "python",
   "name": "python3"
  },
  "language_info": {
   "codemirror_mode": {
    "name": "ipython",
    "version": 3
   },
   "file_extension": ".py",
   "mimetype": "text/x-python",
   "name": "python",
   "nbconvert_exporter": "python",
   "pygments_lexer": "ipython3",
   "version": "3.11.5"
  }
 },
 "nbformat": 4,
 "nbformat_minor": 4
}
